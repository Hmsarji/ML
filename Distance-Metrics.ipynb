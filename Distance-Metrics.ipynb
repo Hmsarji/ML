{
 "cells": [
  {
   "cell_type": "code",
   "execution_count": 5,
   "metadata": {},
   "outputs": [
    {
     "name": "stdout",
     "output_type": "stream",
     "text": [
      "Euclidean distance = 3.605551275463989\n",
      "Cosine Simliarity = 0.9965965959318528\n",
      "Cosine distance=0.003403404068147209\n"
     ]
    }
   ],
   "source": [
    "import numpy as np\n",
    "from numpy.linalg import norm\n",
    "\n",
    "#Euclidean_distance(A, B):\n",
    "\n",
    "def euclidean_distance(A, B):\n",
    "    A, B = np.array(A), np.array(B)\n",
    "    sum = np.sum(np.square(A-B))\n",
    "\n",
    "    return np.sqrt(sum)\n",
    "\n",
    "#Cosine similarity function \n",
    "def cosine_similarity(A, B):\n",
    "    A, B = np.array(A), np.array(B)\n",
    "    cosine = np.dot(A,B)/(norm(A)*norm(B))\n",
    "    return cosine\n",
    "\n",
    "A = [1, 3, 5, 7, 9]\n",
    "B = [2, 4, 6, 8, 12]\n",
    "\n",
    "euc = euclidean_distance(A=A, B=B)\n",
    "cos = cosine_similarity(A=A, B=B)\n",
    "d_cos = 1 - cos\n",
    "\n",
    "print(\"Euclidean distance = {}\\nCosine Simliarity = {}\\nCosine distance={}\".format(euc,cos,d_cos))\n",
    "\n"
   ]
  },
  {
   "cell_type": "code",
   "execution_count": 16,
   "metadata": {},
   "outputs": [
    {
     "name": "stdout",
     "output_type": "stream",
     "text": [
      "Characters do not match E != M at index 0\n",
      "Characters do not match u != a at index 1\n",
      "Characters do not match c != n at index 2\n",
      "Characters do not match l != h at index 3\n",
      "Characters do not match i != a at index 4\n",
      "Characters do not match d != t at index 5\n",
      "Characters do not match e != t at index 6\n",
      "Hamming distance = 7\n"
     ]
    }
   ],
   "source": [
    "def hamming_distance(s1, s2):\n",
    "    # Check length first\n",
    "    if len(s1) != len(s2):\n",
    "        print(\"Strings are not the same length. Hamming distance not defined.\")\n",
    "        return None\n",
    "    \n",
    "    dist = 0\n",
    "    for x, (i, j) in enumerate(zip(s1, s2)):\n",
    "        if i != j:\n",
    "            print(f'Characters do not match {i} != {j} at index {x}')\n",
    "            dist += 1\n",
    "    \n",
    "    return f'Hamming distance = {dist}'\n",
    "\n",
    "A = \"Euclidean\"\n",
    "B = \"Manhattan\"\n",
    "hamming = hamming_distance(A, B)\n",
    "print(hamming)\n",
    "\n",
    "            \n",
    "        "
   ]
  },
  {
   "cell_type": "code",
   "execution_count": 16,
   "metadata": {},
   "outputs": [
    {
     "name": "stdout",
     "output_type": "stream",
     "text": [
      "Word set Sentence 1 = {'foo', 'sentence', 'This', 'bar', '.'}\n",
      "Word set Sentence 2 = {'foo', 'similar', 'sentence', 'This', 'bar', '.'}\n",
      "Intersection = {'foo', 'sentence', 'This', 'bar', '.'}\n",
      "Union = {'foo', 'sentence', 'This', 'bar', 'similar', '.'}\n",
      "Jaccard similarity Index = 0.8333333333333334\n",
      "The Jaccardian distance is 0.16666666666666663\n"
     ]
    },
    {
     "name": "stderr",
     "output_type": "stream",
     "text": [
      "[nltk_data] Downloading package punkt to\n",
      "[nltk_data]     C:\\Users\\Husse\\AppData\\Roaming\\nltk_data...\n",
      "[nltk_data]   Package punkt is already up-to-date!\n",
      "[nltk_data] Downloading package stopwords to\n",
      "[nltk_data]     C:\\Users\\Husse\\AppData\\Roaming\\nltk_data...\n",
      "[nltk_data]   Package stopwords is already up-to-date!\n",
      "[nltk_data] Downloading package punkt_tab to\n",
      "[nltk_data]     C:\\Users\\Husse\\AppData\\Roaming\\nltk_data...\n",
      "[nltk_data]   Package punkt_tab is already up-to-date!\n"
     ]
    },
    {
     "ename": "",
     "evalue": "",
     "output_type": "error",
     "traceback": [
      "\u001b[1;31mThe Kernel crashed while executing code in the current cell or a previous cell. \n",
      "\u001b[1;31mPlease review the code in the cell(s) to identify a possible cause of the failure. \n",
      "\u001b[1;31mClick <a href='https://aka.ms/vscodeJupyterKernelCrash'>here</a> for more info. \n",
      "\u001b[1;31mView Jupyter <a href='command:jupyter.viewOutput'>log</a> for further details."
     ]
    }
   ],
   "source": [
    "\n",
    "import nltk\n",
    "\n",
    "# Downloading the required NLTK data\n",
    "nltk.download('punkt')\n",
    "nltk.download('stopwords')\n",
    "nltk.download('punkt_tab')\n",
    "\n",
    "from nltk.corpus import stopwords\n",
    "from nltk.tokenize import word_tokenize\n",
    "\n",
    "def jaccard_similarity(s1, s2):\n",
    "    S1_list = word_tokenize(s1)\n",
    "    S2_list = word_tokenize(s2)\n",
    "\n",
    "    sw = stopwords.words('english')\n",
    "\n",
    "    S1_set = {word for word in S1_list if not word in sw}\n",
    "    S2_set = {word for word in S2_list if not word in sw}\n",
    "\n",
    "    print(f'Word set Sentence 1 = {S1_set}')\n",
    "    print(f'Word set Sentence 2 = {S2_set}')\n",
    "\n",
    "    I = set(S1_set).intersection(set(S2_set))\n",
    "    U = set(S1_set.union(set(S2_set)))\n",
    "\n",
    "    print(f'Intersection = {I}')\n",
    "    print(f'Union = {U}')\n",
    "\n",
    "    IoU = len(I) / len(U)\n",
    "\n",
    "    return IoU\n",
    "\n",
    "A = \"This is a foo bar sentence.\"\n",
    "B = \"This sentence is similar to a foo bar sentence.\"\n",
    "\n",
    "J = jaccard_similarity(A, B)\n",
    "D_J = 1 - J\n",
    "\n",
    "print(\"Jaccard similarity Index = {}\\nThe Jaccardian distance is {}\".format(J, D_J))"
   ]
  }
 ],
 "metadata": {
  "kernelspec": {
   "display_name": "base",
   "language": "python",
   "name": "python3"
  },
  "language_info": {
   "codemirror_mode": {
    "name": "ipython",
    "version": 3
   },
   "file_extension": ".py",
   "mimetype": "text/x-python",
   "name": "python",
   "nbconvert_exporter": "python",
   "pygments_lexer": "ipython3",
   "version": "3.12.7"
  }
 },
 "nbformat": 4,
 "nbformat_minor": 2
}
