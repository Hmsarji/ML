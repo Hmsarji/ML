{
 "cells": [
  {
   "cell_type": "code",
   "execution_count": 5,
   "metadata": {},
   "outputs": [
    {
     "name": "stdout",
     "output_type": "stream",
     "text": [
      "2.6992\n"
     ]
    }
   ],
   "source": [
    "#MSE definition\n",
    "import numpy as np\n",
    "\n",
    "#MSE function\n",
    "def MSE(y,y_hat):\n",
    "    y,y_hat = np.array(y),np.array(y_hat)\n",
    "    dif = np.subtract(y,y_hat)\n",
    "    squared_dif = np.square(dif)\n",
    "    return np.mean(squared_dif)\n",
    "\n",
    "y = [1.08, 1.2, 1.4, 2.1, 1.9, 7, 2.9]\n",
    "y_hat = [0.7, 1.1, 1.5, 1.9, 2.3, 2.7, 3.1]\n",
    "\n",
    "mse = MSE(y=y, y_hat=y_hat)\n",
    "print(mse)"
   ]
  },
  {
   "cell_type": "code",
   "execution_count": 9,
   "metadata": {},
   "outputs": [
    {
     "name": "stdout",
     "output_type": "stream",
     "text": [
      "0.8114285714285715\n"
     ]
    }
   ],
   "source": [
    "#MAE Definition\n",
    "import numpy as np \n",
    "\n",
    "#MAE Function\n",
    "def MAE(y,y_hat):\n",
    "    y,y_hat = np.array(y),np.array(y_hat) #Python list to numpy list\n",
    "    dif = np.subtract(y,y_hat) #Difference between actual and predicted\n",
    "    absolute_dif = np.abs(dif) #Absolute value of difference\n",
    "    return np.mean(absolute_dif)\n",
    "y = [1.08, 1.2, 1.4, 2.1, 1.9, 7, 2.9]\n",
    "y_hat = [0.7, 1.1, 1.5, 1.9, 2.3, 2.7, 3.1]\n",
    "\n",
    "mae = MAE(y=y, y_hat=y_hat)\n",
    "print(mae)\n"
   ]
  },
  {
   "cell_type": "code",
   "execution_count": 13,
   "metadata": {},
   "outputs": [
    {
     "name": "stdout",
     "output_type": "stream",
     "text": [
      "0.7279928571428573\n"
     ]
    }
   ],
   "source": [
    "#Huber definition\n",
    "import numpy as np \n",
    "\n",
    "#Huber loss function \n",
    "def huber_loss(y, y_hat, delta=1.0):\n",
    "    y, y_hat = np.array(y), np.array(y_hat) #Python list to numpy array \n",
    "    huber_mse = 0.5*np.square(y - y_hat) #MSE part of huber loss\n",
    "    huber_mae = delta*(np.abs(y-y_hat) - 0.5*delta) #MAE part of huber loss\n",
    "    return np.mean(np.where(np.abs(y-y_hat) <= delta, huber_mse, huber_mae))\n",
    "y = [1.08, 1.2, 1.4, 2.1, 1.9, 7, 2.9]\n",
    "y_hat = [0.7, 1.1, 1.5, 1.9, 2.3, 2.7, 3.1]\n",
    "\n",
    "huber = huber_loss(y=y, y_hat=y_hat, delta=1.35)\n",
    "print(huber)\n",
    "\n"
   ]
  },
  {
   "cell_type": "code",
   "execution_count": 5,
   "metadata": {},
   "outputs": [
    {
     "name": "stdout",
     "output_type": "stream",
     "text": [
      "MSE = 2.6992\n",
      "MAE =0.8114285714285715\n",
      "Huber Loss =0.7279928922653198\n"
     ]
    }
   ],
   "source": [
    "# MAE MSE Huber using built in functions\n",
    "import numpy as np \n",
    "import tensorflow as tf\n",
    "from sklearn.metrics import mean_squared_error, mean_absolute_error\n",
    "\n",
    "y = [1.08, 1.2, 1.4, 2.1, 1.9, 7, 2.9] \n",
    "y_hat = [0.7, 1.1, 1.5, 1.9, 2.3, 2.7, 3.1]\n",
    "\n",
    "y,y_hat = np.array(y), np.array(y_hat)\n",
    "\n",
    "mse = mean_squared_error(y,y_hat)\n",
    "mae = mean_absolute_error(y, y_hat)\n",
    "\n",
    "huber = tf.keras.losses.Huber(delta=1.35)\n",
    "huber = huber(y, y_hat).numpy()\n",
    "\n",
    "print(\"MSE = {}\\nMAE ={}\\nHuber Loss ={}\".format(mse, mae,huber))\n"
   ]
  },
  {
   "cell_type": "code",
   "execution_count": 8,
   "metadata": {},
   "outputs": [
    {
     "name": "stdout",
     "output_type": "stream",
     "text": [
      "Cross-Entropy Loss =0.009505750655915442\n"
     ]
    }
   ],
   "source": [
    "import numpy as np\n",
    "\n",
    "def categorical_cross_entropy(y,y_hat):\n",
    "    y,y_hat = np.array(y), np.array(y_hat)\n",
    "    ce = -np.sum(np.multiply(y,np.log10(y_hat)))\n",
    "    return ce \n",
    "\n",
    "y = [0, 1, 0]\n",
    "y_hat = [0.02,0.97835,0.00165]\n",
    "ce_loss = categorical_cross_entropy(y=y,y_hat=y_hat)\n",
    "\n",
    "print(\"Cross-Entropy Loss ={}\".format(ce_loss))\n",
    "\n",
    "\n"
   ]
  }
 ],
 "metadata": {
  "kernelspec": {
   "display_name": "base",
   "language": "python",
   "name": "python3"
  },
  "language_info": {
   "codemirror_mode": {
    "name": "ipython",
    "version": 3
   },
   "file_extension": ".py",
   "mimetype": "text/x-python",
   "name": "python",
   "nbconvert_exporter": "python",
   "pygments_lexer": "ipython3",
   "version": "3.12.7"
  }
 },
 "nbformat": 4,
 "nbformat_minor": 2
}
