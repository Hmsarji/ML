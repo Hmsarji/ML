{
 "cells": [
  {
   "cell_type": "code",
   "execution_count": 1,
   "metadata": {},
   "outputs": [
    {
     "name": "stdout",
     "output_type": "stream",
     "text": [
      "Gaussian Naive Bayes Accuracy: 0.807\n",
      "\n",
      "Classification Report:\n",
      "               precision    recall  f1-score   support\n",
      "\n",
      "           0       0.90      0.83      0.86       289\n",
      "           1       0.99      0.92      0.95       160\n",
      "           2       0.93      0.88      0.90       270\n",
      "           3       0.52      0.66      0.58       139\n",
      "           4       0.58      0.69      0.63       136\n",
      "           5       0.83      0.78      0.80       292\n",
      "\n",
      "    accuracy                           0.81      1286\n",
      "   macro avg       0.79      0.79      0.79      1286\n",
      "weighted avg       0.82      0.81      0.81      1286\n",
      "\n"
     ]
    }
   ],
   "source": [
    "from sklearn.datasets import fetch_openml  # To load the Satimage dataset from OpenML\n",
    "from sklearn.naive_bayes import GaussianNB  # Gaussian Naive Bayes classifier\n",
    "from sklearn.model_selection import train_test_split  # To split data into training and testing sets\n",
    "from sklearn.metrics import accuracy_score, classification_report  # For model evaluation\n",
    "import warnings\n",
    "\n",
    "warnings.filterwarnings('ignore')  # Suppress warnings for cleaner output\n",
    "\n",
    "# Step 1: Data Preparation\n",
    "# ------------------------------------\n",
    "# Load the Satimage dataset from OpenML (Statlog Landsat Satellite dataset)\n",
    "sat_data = fetch_openml(name='satimage', version=1, as_frame=True)\n",
    "df = sat_data.frame\n",
    "\n",
    "# The dataset includes several spectral features and a target column 'class' representing land cover types.\n",
    "# Extract features and convert the target to integer if needed.\n",
    "X = df.drop(columns=['class'])\n",
    "y = df['class'].astype('category').cat.codes  # Convert target to categorical codes\n",
    "\n",
    "# Split the dataset into training and testing sets.\n",
    "X_train, X_test, y_train, y_test = train_test_split(X, y, test_size=0.2, random_state=42)\n",
    "\n",
    "# Step 2: Model Training\n",
    "# ------------------------------------\n",
    "# Instantiate the Gaussian Naive Bayes classifier.\n",
    "gnb = GaussianNB()  # Assumes features are normally distributed within each class\n",
    "\n",
    "# Train the model on the training data.\n",
    "gnb.fit(X_train, y_train)\n",
    "\n",
    "# Step 3: Evaluation\n",
    "# ------------------------------------\n",
    "# Predict the classes for the test data.\n",
    "y_pred = gnb.predict(X_test)\n",
    "\n",
    "# Evaluate the model's performance using accuracy and a classification report.\n",
    "accuracy = accuracy_score(y_test, y_pred)\n",
    "report = classification_report(y_test, y_pred)\n",
    "\n",
    "print(\"Gaussian Naive Bayes Accuracy: {:.3f}\".format(accuracy))\n",
    "print(\"\\nClassification Report:\\n\", report)\n"
   ]
  }
 ],
 "metadata": {
  "kernelspec": {
   "display_name": "base",
   "language": "python",
   "name": "python3"
  },
  "language_info": {
   "codemirror_mode": {
    "name": "ipython",
    "version": 3
   },
   "file_extension": ".py",
   "mimetype": "text/x-python",
   "name": "python",
   "nbconvert_exporter": "python",
   "pygments_lexer": "ipython3",
   "version": "3.12.7"
  }
 },
 "nbformat": 4,
 "nbformat_minor": 2
}
